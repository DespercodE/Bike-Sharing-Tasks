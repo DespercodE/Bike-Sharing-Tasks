{
 "cells": [
  {
   "metadata": {},
   "cell_type": "markdown",
   "source": [
    "## Small conclusion\n",
    "- Random Forest performed better than Liner Regression ( **higher R^2**, **lower MAE**)\n",
    "- The most important features include : **temperature**, **humidity**, and **hour of the day**.\n",
    "- For possible improvements. This can be added:\n",
    "    - *adding GridSearchCV*\n",
    "    - *adding API with FastAPI*\n"
   ],
   "id": "3dce4dc89b19feb"
  }
 ],
 "metadata": {
  "kernelspec": {
   "name": "python3",
   "language": "python",
   "display_name": "Python 3 (ipykernel)"
  }
 },
 "nbformat": 4,
 "nbformat_minor": 5
}
